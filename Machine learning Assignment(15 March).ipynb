{
 "cells": [
  {
   "cell_type": "markdown",
   "id": "da675315-0d42-4841-ba76-4a2b90f8a1a2",
   "metadata": {},
   "source": [
    "### Q1 1.) What is Artificial Intelligence?\n",
    "Artifical Intelligence is a technology which helps computer to think and take decisions like human beings for examples using images it can determine what it is.Ai empowers the computer to mimic human-like decision-making processes and adapt based on the data they receive\n",
    "Examples for the AI is:\n",
    "Smartphones personal assistence"
   ]
  },
  {
   "cell_type": "markdown",
   "id": "280f64ca-5d7d-47dc-bae5-c2c38fa07a27",
   "metadata": {},
   "source": [
    "### 2) what is Machine learning?\n",
    "Machine learning is a facinating field within the Artificial Intelligence that empowers the computers to learn from the data and make decision without any human interruption. It helps computer to recognize pattern and make prediction based on the given data. ML is the subset of the AI\n",
    "Example for the Machine Learning are:\n",
    "Image recognition: Ml alogo can classify, identify and segment images. for example Diagnosing diseases from medical imagery(CT-scan, X-Ray)\n",
    "NLP: enables computer to understand and generate human languages(chatbots, Languages translation"
   ]
  },
  {
   "cell_type": "markdown",
   "id": "c2990cac-6c8c-473c-b3d6-5a8072ae3493",
   "metadata": {},
   "source": [
    "### 3) What is Deep learning?\n",
    "Deep learning is the subset of the machine learning that is inspired by the neural networks. It involves creating artificial neural network that can learn from large amout of data.These networks are composed of layers of interconnected node or neurons that can weigh input and produce output based on data they have trained on.\n",
    "Example: Image Recognition."
   ]
  },
  {
   "cell_type": "markdown",
   "id": "ac17ba25-fa7e-4ac9-ad6b-fc1e55a892df",
   "metadata": {},
   "source": [
    "### Q2 What is supervised Machine learning?\n",
    "Supervised Machine leaning is a type of machine learning, where the algorithm is trained on the labeled dataset. which means in this data is learning from past experience. Example: E-mail spam, Credit scoring etc "
   ]
  },
  {
   "cell_type": "markdown",
   "id": "72ca519d-7ed7-471d-8b4f-4f41c829654d",
   "metadata": {},
   "source": [
    "### What is unsupervised learning?\n",
    "unsupervised machine learning is type of the machine learning in which we donot provide any explicit instruction or also any labeled dataset. It is designed to identify the patterns and structure within the data on it's own\n",
    "Examples: clustering: groups similar kind of data point based on their features(e.g Customer Segmentation)\n",
    "Association: finds the rules that describe large portion of data such as items that are brought together."
   ]
  },
  {
   "cell_type": "markdown",
   "id": "ba2dcfd6-af24-4478-aad6-a53ac83ba98c",
   "metadata": {},
   "source": [
    "### Q4- What is the difference between AI, ML, DL, and DS?\n",
    "AI : Ai is the brodest concept of that refers to machine designed to act intelligently like humans.\n",
    "\n",
    "ML: It is the subset of the AI it the the method using which we are training our algorithms so that they can learn how to make decision.\n",
    "\n",
    "DL: It is the subset of the Ml which works on the artificial neural network which is designed of neural network inspired by human brain.\n",
    "\n",
    "DS : it is used for extracting valuable insights/ imfomation from the given data using various ML algorithms and mathematical tools such as the Statistics probability etc."
   ]
  },
  {
   "cell_type": "markdown",
   "id": "88c03497-246c-4e90-a384-301380f3ea54",
   "metadata": {},
   "source": [
    "### What is the difference between Supervised , Unsupervised and semi-supervised?\n",
    "Supervised ML: It is the type of the machine learning which uses the labeled dataset to make prediction.\n",
    "\n",
    "UnSupervised ML: It is the type of ML in which there is no labeled dataset available it has to figure by itself by using patterns and structure present in that dataset.\n",
    "\n",
    "Semi-Superrvised : It is the kind of the Machine leanring which uses the both supervised as well as the unsupervised machine leaning alogrithms"
   ]
  },
  {
   "cell_type": "markdown",
   "id": "85c3df77-01b8-4aaf-ad7b-0f38517c2132",
   "metadata": {},
   "source": [
    "### what is the train ,test, and validation split?\n",
    "the train , test and validation split is a method in a ML used to divide the dataset into three parts:\n",
    "training set: this particular part is used to train the dataset/model allowing it to learning and identify the patterns. It must be arounf 70-80% of the dataset.\n",
    "\n",
    "Validation set: used to fine-tune the model's parameter and provide unbaised evaluation of model-fit during the traing phase.used arounf 10-15% of dataset\n",
    "\n",
    "test set: It is use to access the performance of the model after it has been trained and validated."
   ]
  },
  {
   "cell_type": "markdown",
   "id": "165b59a5-1dd1-4641-8367-8c9ed49cd71e",
   "metadata": {},
   "source": [
    "### How can unsupervised learning be used in anomly detection?\n",
    "Unsupervised learning is particularly useful for anomaly detection because it doesnot require labeled data to identify patterns and outliers.\n",
    "\n",
    "1) Identifying outliers\n",
    "2) clustering: methods like K-means or DBSCAN group similar data points together points that don't fit into any group may consider as anomalies.\n",
    "3) Dimensionality Reduction : techniques like PCA(principle component analysis) reduces the number of variables, making it easier to visualize and detect anomalies in the data."
   ]
  },
  {
   "cell_type": "markdown",
   "id": "c81b0a4f-2c9d-42f9-94bd-46f3d4d8175f",
   "metadata": {},
   "source": [
    "### Q8 Commonaly used Supervised and Unsupervised Alogorithms are:\n",
    "Supervised ML alogorithms :\n",
    "Linear Regression : for predicting continuous variable(predicting house price using feature like size and location)\n",
    "logistis Regression : used for binary classification problems\n",
    "Support vector Machine(SVM) used for classifcation and regression task(handwritting recognition for digit classification)\n",
    "Random Forest \n",
    "\n",
    "Unsupervised ML alogorithm: \n",
    "\n",
    "k-means clustering: used for groupin data into k no. of cluster.\n",
    "PCA: used for dimensionality reduction.\n",
    "DBSCAN: used for density-based clustering alogorithm"
   ]
  }
 ],
 "metadata": {
  "kernelspec": {
   "display_name": "Python 3 (ipykernel)",
   "language": "python",
   "name": "python3"
  },
  "language_info": {
   "codemirror_mode": {
    "name": "ipython",
    "version": 3
   },
   "file_extension": ".py",
   "mimetype": "text/x-python",
   "name": "python",
   "nbconvert_exporter": "python",
   "pygments_lexer": "ipython3",
   "version": "3.10.8"
  }
 },
 "nbformat": 4,
 "nbformat_minor": 5
}
